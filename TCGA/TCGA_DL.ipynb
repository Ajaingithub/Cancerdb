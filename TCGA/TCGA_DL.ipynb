{
 "cells": [
  {
   "cell_type": "code",
   "execution_count": null,
   "metadata": {},
   "outputs": [],
   "source": [
    "import numpy as np\n",
    "import tensorflow as tf\n",
    "from tensorflow.keras.models import Sequential\n",
    "from tensorflow.keras.layers import Dense\n",
    "from tensorflow.keras.optimizers import SGD\n",
    "\n",
    "NNarray = [4096, 2048, 1024, 512]\n",
    "\n",
    "model = Sequential()\n",
    "\n",
    "# Add layers to the model\n",
    "model.add(Dense(units=NNarray[0], activation='relu', input_shape=(xtrain.shape[1],)))\n",
    "model.add(Dense(units=NNarray[1], activation='relu'))\n",
    "model.add(Dense(units=NNarray[2], activation='relu'))\n",
    "model.add(Dense(units=NNarray[3], activation='relu'))\n",
    "model.add(Dense(units=ytrain.shape[1], activation='sigmoid'))\n",
    "\n",
    "# Compile the model\n",
    "model.compile(optimizer=SGD(), loss='binary_crossentropy', metrics=['accuracy'])\n",
    "\n",
    "# Fit the model\n",
    "history = model.fit(\n",
    "    train_data,\n",
    "    train_label,\n",
    "    epochs=20,\n",
    "    batch_size=train_data.shape[0] // 25,  # This will be similar to `dim(train_data)[1]/25` in R\n",
    "    use_multiprocessing=True\n",
    "    # validation_split=0.1  # Uncomment if validation split is needed\n",
    ")"
   ]
  }
 ],
 "metadata": {
  "language_info": {
   "name": "python"
  }
 },
 "nbformat": 4,
 "nbformat_minor": 2
}
