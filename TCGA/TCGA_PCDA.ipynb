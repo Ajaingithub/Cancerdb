{
 "cells": [
  {
   "cell_type": "code",
   "execution_count": 1,
   "metadata": {},
   "outputs": [],
   "source": [
    "import torch\n",
    "import pandas as pd\n",
    "import copy\n",
    "import os\n",
    "import numpy as np\n",
    "import matplotlib.pyplot as plt\n",
    "import seaborn as sns"
   ]
  },
  {
   "cell_type": "code",
   "execution_count": 2,
   "metadata": {},
   "outputs": [
    {
     "name": "stdout",
     "output_type": "stream",
     "text": [
      "(5909, 550)\n"
     ]
    }
   ],
   "source": [
    "# Loading the data which was already filtered in TCGA_prostate_cancer.R\n",
    "os.chdir(\"/diazlab/data3/.abhinav/projects/SHH/Cancerdb/TCGA/\")\n",
    "expr = pd.read_table(\"data/expr_filtered.txt\")\n",
    "print(expr.shape)"
   ]
  },
  {
   "cell_type": "code",
   "execution_count": 3,
   "metadata": {},
   "outputs": [
    {
     "name": "stdout",
     "output_type": "stream",
     "text": [
      "(550, 1)\n"
     ]
    },
    {
     "data": {
      "text/plain": [
       "x        \n",
       "Pattern 4    252\n",
       "Pattern 3    166\n",
       "Pattern 5    104\n",
       "Name: count, dtype: int64"
      ]
     },
     "execution_count": 3,
     "metadata": {},
     "output_type": "execute_result"
    }
   ],
   "source": [
    "### Loading the label dataset\n",
    "label = pd.read_table(\"data/labelled_data.txt\")\n",
    "print(label.shape)\n",
    "label.value_counts()"
   ]
  },
  {
   "cell_type": "code",
   "execution_count": 5,
   "metadata": {},
   "outputs": [
    {
     "name": "stdout",
     "output_type": "stream",
     "text": [
      "(550, 5909)\n",
      "(550, 1)\n",
      "Index(['TCGA-KK-A6E6-01A', 'TCGA-KK-A6E3-01A', 'TCGA-G9-7519-01A',\n",
      "       'TCGA-HC-A6AS-01A', 'TCGA-HC-8260-11A', 'TCGA-HC-8260-01A',\n",
      "       'TCGA-HC-A6AP-01A', 'TCGA-EJ-A8FO-11A', 'TCGA-EJ-A8FO-01A',\n",
      "       'TCGA-YL-A8SQ-01B',\n",
      "       ...\n",
      "       'TCGA-EJ-A7NJ-01A', 'TCGA-EJ-5497-01A', 'TCGA-HC-7749-01A',\n",
      "       'TCGA-SU-A7E7-01A', 'TCGA-2A-A8VO-01A', 'TCGA-V1-A9OY-01A',\n",
      "       'TCGA-V1-A9O7-01A', 'TCGA-KK-A8IA-01A', 'TCGA-H9-A6BX-01A',\n",
      "       'TCGA-EJ-5499-01A'],\n",
      "      dtype='object', length=550)\n",
      "Index([  1,   2,   3,   4,   5,   6,   7,   8,   9,  10,\n",
      "       ...\n",
      "       541, 542, 543, 544, 545, 546, 547, 548, 549, 550],\n",
      "      dtype='int64', length=550)\n",
      "Index(['TCGA-KK-A6E6-01A', 'TCGA-KK-A6E3-01A', 'TCGA-G9-7519-01A',\n",
      "       'TCGA-HC-A6AS-01A', 'TCGA-HC-8260-11A', 'TCGA-HC-8260-01A',\n",
      "       'TCGA-HC-A6AP-01A', 'TCGA-EJ-A8FO-11A', 'TCGA-EJ-A8FO-01A',\n",
      "       'TCGA-YL-A8SQ-01B',\n",
      "       ...\n",
      "       'TCGA-EJ-A7NJ-01A', 'TCGA-EJ-5497-01A', 'TCGA-HC-7749-01A',\n",
      "       'TCGA-SU-A7E7-01A', 'TCGA-2A-A8VO-01A', 'TCGA-V1-A9OY-01A',\n",
      "       'TCGA-V1-A9O7-01A', 'TCGA-KK-A8IA-01A', 'TCGA-H9-A6BX-01A',\n",
      "       'TCGA-EJ-5499-01A'],\n",
      "      dtype='object', length=550)\n"
     ]
    }
   ],
   "source": [
    "### We have to keep the same index in both labels and expression data\n",
    "data = expr.T\n",
    "print(data.shape)\n",
    "print(label.shape)\n",
    "print(data.index)\n",
    "print(label.index)\n",
    "label.index = data.index\n",
    "print(label.index)"
   ]
  },
  {
   "cell_type": "code",
   "execution_count": 8,
   "metadata": {},
   "outputs": [
    {
     "name": "stdout",
     "output_type": "stream",
     "text": [
      "(522, 5909)\n",
      "(522, 1)\n"
     ]
    }
   ],
   "source": [
    "### removing the NA from the data\n",
    "valid_samples = label.dropna()  # Drops NA values\n",
    "filtered_data = data.loc[valid_samples.index]  # Keep only valid samples\n",
    "print(filtered_data.shape)\n",
    "print(valid_samples.shape)"
   ]
  },
  {
   "cell_type": "code",
   "execution_count": 9,
   "metadata": {},
   "outputs": [
    {
     "data": {
      "text/plain": [
       "x\n",
       "1    252\n",
       "0    166\n",
       "2    104\n",
       "Name: count, dtype: int64"
      ]
     },
     "execution_count": 9,
     "metadata": {},
     "output_type": "execute_result"
    }
   ],
   "source": [
    "valid_samples.iloc[:,-1].value_counts()\n",
    "valid_samples_float = valid_samples.iloc[:,-1].map({\"Pattern 3\":0,\"Pattern 4\":1,\"Pattern 5\":2})\n",
    "valid_samples_float.value_counts()"
   ]
  },
  {
   "cell_type": "code",
   "execution_count": 10,
   "metadata": {},
   "outputs": [
    {
     "name": "stdout",
     "output_type": "stream",
     "text": [
      "(417, 5909)\n",
      "(105, 5909)\n",
      "(417,)\n",
      "(105,)\n",
      "<bound method NDFrame.head of                   ENSG00000000003.15  ENSG00000000419.13  ENSG00000001036.14  \\\n",
      "TCGA-ZG-A9MC-01A            3.631880            4.351018            3.898127   \n",
      "TCGA-VP-A87K-01A            3.977884            4.399615            3.805426   \n",
      "TCGA-XK-AAJA-01A            4.182447            4.058693            4.278424   \n",
      "TCGA-FC-7961-01A            4.698471            4.947093            4.316924   \n",
      "TCGA-G9-6333-01A            3.643534            4.002604            3.960615   \n",
      "...                              ...                 ...                 ...   \n",
      "TCGA-HI-7168-01A            3.975994            4.179598            3.650700   \n",
      "TCGA-KK-A7AU-01A            3.964739            4.516969            3.701929   \n",
      "TCGA-ZG-A9M4-01A            3.614086            4.334586            2.574572   \n",
      "TCGA-YL-A8HM-01A            3.813389            4.611871            4.065226   \n",
      "TCGA-VN-A88M-01A            3.645620            3.992179            3.961101   \n",
      "\n",
      "                  ENSG00000001461.17  ENSG00000001561.7  ENSG00000001617.12  \\\n",
      "TCGA-ZG-A9MC-01A            3.044141           3.301116            4.723370   \n",
      "TCGA-VP-A87K-01A            3.130796           4.011722            3.325996   \n",
      "TCGA-XK-AAJA-01A            4.524941           3.659950            5.001718   \n",
      "TCGA-FC-7961-01A            3.661418           3.605471            3.928249   \n",
      "TCGA-G9-6333-01A            4.223818           3.729642            3.671171   \n",
      "...                              ...                ...                 ...   \n",
      "TCGA-HI-7168-01A            3.259361           3.405614            3.269402   \n",
      "TCGA-KK-A7AU-01A            3.177404           3.876959            3.396955   \n",
      "TCGA-ZG-A9M4-01A            3.325798           4.871776            3.791986   \n",
      "TCGA-YL-A8HM-01A            3.127471           3.640516            2.947466   \n",
      "TCGA-VN-A88M-01A            2.453416           2.646877            3.181024   \n",
      "\n",
      "                  ENSG00000002549.12  ENSG00000002586.20  ENSG00000002726.21  \\\n",
      "TCGA-ZG-A9MC-01A            4.778485            5.170927            1.376698   \n",
      "TCGA-VP-A87K-01A            4.324419            5.310530            1.866851   \n",
      "TCGA-XK-AAJA-01A            3.326237            5.349740            0.417789   \n",
      "TCGA-FC-7961-01A            4.180469            6.052995            0.566166   \n",
      "TCGA-G9-6333-01A            4.038360            5.562931            2.171360   \n",
      "...                              ...                 ...                 ...   \n",
      "TCGA-HI-7168-01A            3.611461            5.427771            0.134880   \n",
      "TCGA-KK-A7AU-01A            4.136027            5.071620            3.411154   \n",
      "TCGA-ZG-A9M4-01A            3.993946            4.363483            0.640590   \n",
      "TCGA-YL-A8HM-01A            4.397109            4.867871            0.172692   \n",
      "TCGA-VN-A88M-01A            3.167296            4.853043            1.930695   \n",
      "\n",
      "                  ENSG00000002746.15  ...  ENSG00000287024.1  \\\n",
      "TCGA-ZG-A9MC-01A            0.221622  ...           2.765847   \n",
      "TCGA-VP-A87K-01A            0.103008  ...           3.187047   \n",
      "TCGA-XK-AAJA-01A            0.040758  ...           3.660634   \n",
      "TCGA-FC-7961-01A            0.406465  ...           2.843641   \n",
      "TCGA-G9-6333-01A            0.316634  ...           3.333493   \n",
      "...                              ...  ...                ...   \n",
      "TCGA-HI-7168-01A            0.648568  ...           3.434287   \n",
      "TCGA-KK-A7AU-01A            0.024009  ...           3.943772   \n",
      "TCGA-ZG-A9M4-01A            0.107508  ...           3.647883   \n",
      "TCGA-YL-A8HM-01A            0.126633  ...           3.518147   \n",
      "TCGA-VN-A88M-01A            0.053446  ...           4.097936   \n",
      "\n",
      "                  ENSG00000287066.1  ENSG00000287094.1  ENSG00000287262.1  \\\n",
      "TCGA-ZG-A9MC-01A           0.000000           0.000000           2.655683   \n",
      "TCGA-VP-A87K-01A           0.000000           0.168561           3.951844   \n",
      "TCGA-XK-AAJA-01A           0.000000           3.260183           2.223867   \n",
      "TCGA-FC-7961-01A           0.000000           0.311887           1.366602   \n",
      "TCGA-G9-6333-01A           0.000000           0.576389           2.323182   \n",
      "...                             ...                ...                ...   \n",
      "TCGA-HI-7168-01A           0.075664           1.951210           2.671711   \n",
      "TCGA-KK-A7AU-01A           0.101925           0.666290           3.319561   \n",
      "TCGA-ZG-A9M4-01A           0.000000           0.000000           4.845294   \n",
      "TCGA-YL-A8HM-01A           0.000000           3.436832           3.209851   \n",
      "TCGA-VN-A88M-01A           0.000000           2.265371           4.206984   \n",
      "\n",
      "                  ENSG00000287458.1  ENSG00000287499.1  ENSG00000287530.1  \\\n",
      "TCGA-ZG-A9MC-01A           0.063820           0.098124           0.584225   \n",
      "TCGA-VP-A87K-01A           0.050123           0.176387           0.226897   \n",
      "TCGA-XK-AAJA-01A           0.130677           0.123102           0.889166   \n",
      "TCGA-FC-7961-01A           0.128041           0.888632           0.487905   \n",
      "TCGA-G9-6333-01A           0.123014           2.054149           1.707055   \n",
      "...                             ...                ...                ...   \n",
      "TCGA-HI-7168-01A           0.144447           1.317641           0.079273   \n",
      "TCGA-KK-A7AU-01A           0.000000           0.109840           0.139936   \n",
      "TCGA-ZG-A9M4-01A           0.000000           0.121332           0.150315   \n",
      "TCGA-YL-A8HM-01A           0.096673           2.864473           0.731358   \n",
      "TCGA-VN-A88M-01A           0.279373           0.000000           0.063163   \n",
      "\n",
      "                  ENSG00000287608.1  ENSG00000287609.1  ENSG00000287734.1  \n",
      "TCGA-ZG-A9MC-01A           0.335901                0.0           0.204491  \n",
      "TCGA-VP-A87K-01A           2.687160                0.0           0.199752  \n",
      "TCGA-XK-AAJA-01A           1.775986                0.0           2.513753  \n",
      "TCGA-FC-7961-01A           0.577343                0.0           2.582366  \n",
      "TCGA-G9-6333-01A           0.462034                0.0           2.304144  \n",
      "...                             ...                ...                ...  \n",
      "TCGA-HI-7168-01A           0.922631                0.0           1.564064  \n",
      "TCGA-KK-A7AU-01A           0.929681                0.0           0.521409  \n",
      "TCGA-ZG-A9M4-01A           0.480263                0.0           0.038644  \n",
      "TCGA-YL-A8HM-01A           0.318817                0.0           3.689836  \n",
      "TCGA-VN-A88M-01A           0.590727                0.0           0.979904  \n",
      "\n",
      "[417 rows x 5909 columns]>\n",
      "<bound method NDFrame.head of                   ENSG00000000003.15  ENSG00000000419.13  ENSG00000001036.14  \\\n",
      "TCGA-ZG-A9LB-01A            4.709479            3.902581            3.799269   \n",
      "TCGA-HC-8261-01B            2.743951            3.144213            2.858549   \n",
      "TCGA-HC-A6AP-01A            4.121697            4.467476            4.542866   \n",
      "TCGA-EJ-7317-01A            3.598531            3.762030            4.082805   \n",
      "TCGA-YL-A8SA-01A            3.954895            4.520274            4.321771   \n",
      "...                              ...                 ...                 ...   \n",
      "TCGA-XJ-A83G-01A            3.779988            4.226553            4.310881   \n",
      "TCGA-EJ-5494-01A            3.804941            4.171303            4.202291   \n",
      "TCGA-EJ-7123-01A            4.399677            3.994034            3.902940   \n",
      "TCGA-HC-7818-01A            3.945968            4.275681            4.185677   \n",
      "TCGA-HC-7209-01A            4.177564            4.433156            4.366654   \n",
      "\n",
      "                  ENSG00000001461.17  ENSG00000001561.7  ENSG00000001617.12  \\\n",
      "TCGA-ZG-A9LB-01A            4.200942           1.872233            2.196191   \n",
      "TCGA-HC-8261-01B            3.852937           2.552760            2.305581   \n",
      "TCGA-HC-A6AP-01A            3.444975           3.089327            4.371173   \n",
      "TCGA-EJ-7317-01A            4.858553           3.482107            4.309242   \n",
      "TCGA-YL-A8SA-01A            3.058120           4.854771            3.192335   \n",
      "...                              ...                ...                 ...   \n",
      "TCGA-XJ-A83G-01A            3.429966           3.278159            3.847885   \n",
      "TCGA-EJ-5494-01A            4.889740           4.066216            3.063620   \n",
      "TCGA-EJ-7123-01A            4.473595           3.432124            4.151463   \n",
      "TCGA-HC-7818-01A            4.048304           3.798404            4.537434   \n",
      "TCGA-HC-7209-01A            4.083083           4.147803            3.363772   \n",
      "\n",
      "                  ENSG00000002549.12  ENSG00000002586.20  ENSG00000002726.21  \\\n",
      "TCGA-ZG-A9LB-01A            3.513278            4.825763            2.394444   \n",
      "TCGA-HC-8261-01B            3.338140            3.627889            0.860313   \n",
      "TCGA-HC-A6AP-01A            4.180183            6.107099            0.860101   \n",
      "TCGA-EJ-7317-01A            4.032047            5.413709            4.254783   \n",
      "TCGA-YL-A8SA-01A            4.280289            5.250996            1.859589   \n",
      "...                              ...                 ...                 ...   \n",
      "TCGA-XJ-A83G-01A            3.935163            5.565448            1.697943   \n",
      "TCGA-EJ-5494-01A            4.631706            5.146925            3.588844   \n",
      "TCGA-EJ-7123-01A            4.399508            5.544116            1.724408   \n",
      "TCGA-HC-7818-01A            4.417935            5.436157            2.476656   \n",
      "TCGA-HC-7209-01A            4.462247            5.538040            2.757786   \n",
      "\n",
      "                  ENSG00000002746.15  ...  ENSG00000287024.1  \\\n",
      "TCGA-ZG-A9LB-01A            0.138979  ...           3.428294   \n",
      "TCGA-HC-8261-01B            0.676154  ...           1.793308   \n",
      "TCGA-HC-A6AP-01A            0.086361  ...           4.100842   \n",
      "TCGA-EJ-7317-01A            0.732897  ...           2.963922   \n",
      "TCGA-YL-A8SA-01A            0.078996  ...           4.011102   \n",
      "...                              ...  ...                ...   \n",
      "TCGA-XJ-A83G-01A            0.129624  ...           3.873076   \n",
      "TCGA-EJ-5494-01A            0.209937  ...           2.942004   \n",
      "TCGA-EJ-7123-01A            0.271705  ...           2.813599   \n",
      "TCGA-HC-7818-01A            0.912724  ...           3.355429   \n",
      "TCGA-HC-7209-01A            0.289680  ...           3.342710   \n",
      "\n",
      "                  ENSG00000287066.1  ENSG00000287094.1  ENSG00000287262.1  \\\n",
      "TCGA-ZG-A9LB-01A           0.000000           0.194744           0.936329   \n",
      "TCGA-HC-8261-01B           3.174957           1.527316           0.945267   \n",
      "TCGA-HC-A6AP-01A           0.000000           1.109684           2.570603   \n",
      "TCGA-EJ-7317-01A           0.000000           0.068032           1.613749   \n",
      "TCGA-YL-A8SA-01A           0.000000           1.045704           4.748723   \n",
      "...                             ...                ...                ...   \n",
      "TCGA-XJ-A83G-01A           0.000000           0.570697           3.384882   \n",
      "TCGA-EJ-5494-01A           0.104000           0.000000           3.225359   \n",
      "TCGA-EJ-7123-01A           0.000000           0.000000           1.004082   \n",
      "TCGA-HC-7818-01A           0.000000           0.538596           3.524874   \n",
      "TCGA-HC-7209-01A           0.000000           0.183321           2.402286   \n",
      "\n",
      "                  ENSG00000287458.1  ENSG00000287499.1  ENSG00000287530.1  \\\n",
      "TCGA-ZG-A9LB-01A           0.000000           1.408031           0.120357   \n",
      "TCGA-HC-8261-01B           2.787717           0.551007           0.179985   \n",
      "TCGA-HC-A6AP-01A           0.000000           1.005107           0.549796   \n",
      "TCGA-EJ-7317-01A           0.075849           0.137934           0.478592   \n",
      "TCGA-YL-A8SA-01A           0.000000           0.000000           0.329448   \n",
      "...                             ...                ...                ...   \n",
      "TCGA-XJ-A83G-01A           0.306749           0.554632           0.376791   \n",
      "TCGA-EJ-5494-01A           0.000000           1.081161           0.672230   \n",
      "TCGA-EJ-7123-01A           0.110915           2.409411           0.718864   \n",
      "TCGA-HC-7818-01A           0.000000           0.423763           0.320052   \n",
      "TCGA-HC-7209-01A           0.054772           0.191859           0.181821   \n",
      "\n",
      "                  ENSG00000287608.1  ENSG00000287609.1  ENSG00000287734.1  \n",
      "TCGA-ZG-A9LB-01A           0.077887           0.039125           1.627690  \n",
      "TCGA-HC-8261-01B           3.673517           0.022837           0.567527  \n",
      "TCGA-HC-A6AP-01A           0.245688           0.000000           1.198699  \n",
      "TCGA-EJ-7317-01A           1.137929           0.000000           0.433404  \n",
      "TCGA-YL-A8SA-01A           1.784752           0.000000           0.259591  \n",
      "...                             ...                ...                ...  \n",
      "TCGA-XJ-A83G-01A           0.813549           0.000000           1.509021  \n",
      "TCGA-EJ-5494-01A           1.777965           1.330121           0.634140  \n",
      "TCGA-EJ-7123-01A           1.282017           0.000000           0.986712  \n",
      "TCGA-HC-7818-01A           1.779619           0.000000           0.174793  \n",
      "TCGA-HC-7209-01A           1.713311           0.018527           1.187355  \n",
      "\n",
      "[105 rows x 5909 columns]>\n",
      "TCGA-ZG-A9MC-01A    1\n",
      "TCGA-VP-A87K-01A    1\n",
      "TCGA-XK-AAJA-01A    0\n",
      "TCGA-FC-7961-01A    2\n",
      "TCGA-G9-6333-01A    0\n",
      "                   ..\n",
      "TCGA-HI-7168-01A    2\n",
      "TCGA-KK-A7AU-01A    2\n",
      "TCGA-ZG-A9M4-01A    1\n",
      "TCGA-YL-A8HM-01A    2\n",
      "TCGA-VN-A88M-01A    1\n",
      "Name: x, Length: 417, dtype: int64\n",
      "TCGA-ZG-A9LB-01A    1\n",
      "TCGA-HC-8261-01B    1\n",
      "TCGA-HC-A6AP-01A    1\n",
      "TCGA-EJ-7317-01A    1\n",
      "TCGA-YL-A8SA-01A    1\n",
      "                   ..\n",
      "TCGA-XJ-A83G-01A    0\n",
      "TCGA-EJ-5494-01A    0\n",
      "TCGA-EJ-7123-01A    1\n",
      "TCGA-HC-7818-01A    1\n",
      "TCGA-HC-7209-01A    0\n",
      "Name: x, Length: 105, dtype: int64\n"
     ]
    }
   ],
   "source": [
    "## Performing splitting for model evaluation \n",
    "data_log =  np.log1p(filtered_data)\n",
    "from sklearn.model_selection import train_test_split\n",
    "xtrain, xtest, ytrain, ytest = train_test_split(data_log, valid_samples_float, \n",
    "                                                test_size=0.2, \n",
    "                                                random_state=42)\n",
    "print(xtrain.shape)\n",
    "print(xtest.shape)\n",
    "print(ytrain.shape)\n",
    "print(ytest.shape)\n",
    "print(xtrain.head)\n",
    "print(xtest.head)\n",
    "print(ytrain)\n",
    "print(ytest)\n"
   ]
  },
  {
   "cell_type": "code",
   "execution_count": 11,
   "metadata": {},
   "outputs": [
    {
     "data": {
      "image/png": "[encoded data removed]",
      "text/plain": [
       "<Figure size 700x500 with 1 Axes>"
      ]
     },
     "metadata": {},
     "output_type": "display_data"
    }
   ],
   "source": [
    "# Plot distribution (histogram + KDE)\n",
    "plt.figure(figsize=(7, 5))\n",
    "sns.histplot(data_log.iloc[1], kde=True, bins=10, color='blue', edgecolor='black')\n",
    "sns.histplot(data_log.iloc[2], kde=True, bins=10, color='blue', edgecolor='black')\n",
    "sns.histplot(data_log.iloc[3], kde=True, bins=10, color='blue', edgecolor='black')\n",
    "\n",
    "plt.xlabel(\"Log Transformed Expression\")\n",
    "plt.ylabel(\"Frequency\")\n",
    "plt.title(f\"Distribution of Log Expression\")\n",
    "plt.show()"
   ]
  },
  {
   "cell_type": "code",
   "execution_count": 12,
   "metadata": {},
   "outputs": [],
   "source": [
    "### For classification starting with SVM\n",
    "from sklearn import svm\n",
    "clf = svm.SVC(kernel='rbf')\n",
    "clf.fit(xtrain, ytrain)\n",
    "y_pred = clf.predict(xtest)\n"
   ]
  },
  {
   "cell_type": "code",
   "execution_count": 13,
   "metadata": {},
   "outputs": [
    {
     "name": "stdout",
     "output_type": "stream",
     "text": [
      "Accuracy: 0.47619047619047616\n"
     ]
    }
   ],
   "source": [
    "from sklearn import metrics\n",
    "print(\"Accuracy:\",metrics.accuracy_score(ytest, y_pred))"
   ]
  },
  {
   "cell_type": "code",
   "execution_count": 14,
   "metadata": {},
   "outputs": [
    {
     "name": "stdout",
     "output_type": "stream",
     "text": [
      "Counter({1: 50, 0: 30, 2: 25})\n",
      "Counter({np.int64(1): 105})\n"
     ]
    }
   ],
   "source": [
    "y_list = ytest.tolist()\n",
    "import collections\n",
    "counter = collections.Counter(y_list)\n",
    "print(counter)\n",
    "print(collections.Counter(y_pred))\n"
   ]
  },
  {
   "cell_type": "markdown",
   "metadata": {},
   "source": [
    "### Comparing Multiple Classification Model simulataneously"
   ]
  },
  {
   "cell_type": "code",
   "execution_count": null,
   "metadata": {},
   "outputs": [
    {
     "name": "stdout",
     "output_type": "stream",
     "text": [
      "LR: 0.473268 (0.083264) 18.23633885383606 seconds\n",
      "LDA: 0.426210 (0.081757) 3.3399529457092285 seconds\n",
      "KNN: 0.466705 (0.087713) 0.4212486743927002 seconds\n",
      "DTC: 0.420519 (0.081607) 3.2303338050842285 seconds\n",
      "NB: 0.455807 (0.064912) 0.4243338108062744 seconds\n",
      "SVM: 0.483720 (0.087759) 3.0386698246002197 seconds\n",
      "RF: 0.465428 (0.077027) 3.2648513317108154 seconds\n",
      "SGD: 0.425939 (0.111078) 1.4195935726165771 seconds\n"
     ]
    },
    {
     "data": {
      "image/png": "[encoded data removed]",
      "text/plain": [
       "<Figure size 640x480 with 1 Axes>"
      ]
     },
     "metadata": {},
     "output_type": "display_data"
    }
   ],
   "source": [
    "# Compare Algorithms\n",
    "import pandas\n",
    "import matplotlib.pyplot as plt\n",
    "from sklearn.model_selection import RepeatedKFold,cross_val_score\n",
    "from sklearn.linear_model import LogisticRegression\n",
    "from sklearn.tree import DecisionTreeClassifier\n",
    "from sklearn.neighbors import KNeighborsClassifier\n",
    "from sklearn.discriminant_analysis import LinearDiscriminantAnalysis\n",
    "from sklearn.naive_bayes import GaussianNB\n",
    "from sklearn.svm import SVC\n",
    "from lightgbm import LGBMClassifier\n",
    "from xgboost import XGBClassifier\n",
    "from sklearn.linear_model import SGDClassifier\n",
    "from sklearn.ensemble import RandomForestClassifier, GradientBoostingClassifier\n",
    "from datetime import datetime\n",
    "import time\n",
    "# prepare configuration for cross validation test harness\n",
    "seed = 7\n",
    "\n",
    "# prepare models\n",
    "models = []\n",
    "models.append(('LR', LogisticRegression(max_iter=10000)))\n",
    "models.append(('LDA', LinearDiscriminantAnalysis()))\n",
    "models.append(('KNN', KNeighborsClassifier()))\n",
    "models.append(('DTC', DecisionTreeClassifier()))\n",
    "models.append(('NB', GaussianNB()))\n",
    "models.append(('SVM', SVC(kernel='rbf')))\n",
    "models.append((\"RF\", RandomForestClassifier(n_estimators = 100)))\n",
    "# models.append((\"GBC\", GradientBoostingClassifier(n_estimators=100)))\n",
    "models.append((\"SGD\", SGDClassifier(loss=\"log_loss\", penalty=\"l2\")))\n",
    "# models.append((\"LGBM\", LGBMClassifier(objective='multiclass', random_state=5)))\n",
    "# models.append((\"XGB\",XGBClassifier()))\n",
    "\n",
    "# evaluate each model in turn\n",
    "results = []\n",
    "names = []\n",
    "scoring = 'accuracy'\n",
    "for name, model in models:\n",
    "    start_time = time.time()\n",
    "    cv = RepeatedKFold(n_splits=10, n_repeats=3, random_state=seed)\n",
    "    cv_results = cross_val_score(model, xtrain, ytrain, cv=cv, scoring=scoring, n_jobs=-1)\n",
    "    results.append(cv_results)\n",
    "    names.append(name)\n",
    "    msg = \"%s: %f (%f) %s seconds\" % (name, cv_results.mean(), cv_results.std(), time.time() - start_time)\n",
    "    print(msg)\n",
    "\n",
    "# boxplot algorithm comparison\n",
    "fig = plt.figure()\n",
    "fig.suptitle('Algorithm Comparison')\n",
    "ax = fig.add_subplot(111)\n",
    "plt.boxplot(results)\n",
    "ax.set_xticklabels(names)\n",
    "plt.show()"
   ]
  },
  {
   "cell_type": "markdown",
   "metadata": {},
   "source": [
    "Since the machine leanring classification model is not properly able to distinguish the different prostate cancer severity. \n",
    "Performing the deep learning network to see if it can learn something from the different layers using Tensorflow\n",
    "\n",
    "### Deep Learning using TensorFlow\n"
   ]
  },
  {
   "cell_type": "code",
   "execution_count": null,
   "metadata": {},
   "outputs": [
    {
     "name": "stderr",
     "output_type": "stream",
     "text": [
      "2025-03-04 16:43:57.512186: E external/local_xla/xla/stream_executor/cuda/cuda_fft.cc:477] Unable to register cuFFT factory: Attempting to register factory for plugin cuFFT when one has already been registered\n",
      "WARNING: All log messages before absl::InitializeLog() is called are written to STDERR\n",
      "E0000 00:00:1741135437.600716 2407829 cuda_dnn.cc:8310] Unable to register cuDNN factory: Attempting to register factory for plugin cuDNN when one has already been registered\n",
      "E0000 00:00:1741135437.628163 2407829 cuda_blas.cc:1418] Unable to register cuBLAS factory: Attempting to register factory for plugin cuBLAS when one has already been registered\n",
      "2025-03-04 16:43:57.842093: I tensorflow/core/platform/cpu_feature_guard.cc:210] This TensorFlow binary is optimized to use available CPU instructions in performance-critical operations.\n",
      "To enable the following instructions: AVX2 FMA, in other operations, rebuild TensorFlow with the appropriate compiler flags.\n"
     ]
    },
    {
     "ename": "NameError",
     "evalue": "name 'xtrain' is not defined",
     "output_type": "error",
     "traceback": [
      "\u001b[0;31m---------------------------------------------------------------------------\u001b[0m",
      "\u001b[0;31mNameError\u001b[0m                                 Traceback (most recent call last)",
      "Cell \u001b[0;32mIn[1], line 12\u001b[0m\n\u001b[1;32m      9\u001b[0m model \u001b[38;5;241m=\u001b[39m Sequential()\n\u001b[1;32m     11\u001b[0m \u001b[38;5;66;03m# Add layers to the model\u001b[39;00m\n\u001b[0;32m---> 12\u001b[0m model\u001b[38;5;241m.\u001b[39madd(Dense(units\u001b[38;5;241m=\u001b[39mNNarray[\u001b[38;5;241m0\u001b[39m], activation\u001b[38;5;241m=\u001b[39m\u001b[38;5;124m'\u001b[39m\u001b[38;5;124mrelu\u001b[39m\u001b[38;5;124m'\u001b[39m, input_shape\u001b[38;5;241m=\u001b[39m(\u001b[43mxtrain\u001b[49m\u001b[38;5;241m.\u001b[39mshape[\u001b[38;5;241m1\u001b[39m],)))\n\u001b[1;32m     13\u001b[0m model\u001b[38;5;241m.\u001b[39madd(Dense(units\u001b[38;5;241m=\u001b[39mNNarray[\u001b[38;5;241m1\u001b[39m], activation\u001b[38;5;241m=\u001b[39m\u001b[38;5;124m'\u001b[39m\u001b[38;5;124mrelu\u001b[39m\u001b[38;5;124m'\u001b[39m))\n\u001b[1;32m     14\u001b[0m model\u001b[38;5;241m.\u001b[39madd(Dense(units\u001b[38;5;241m=\u001b[39mNNarray[\u001b[38;5;241m2\u001b[39m], activation\u001b[38;5;241m=\u001b[39m\u001b[38;5;124m'\u001b[39m\u001b[38;5;124mrelu\u001b[39m\u001b[38;5;124m'\u001b[39m))\n",
      "\u001b[0;31mNameError\u001b[0m: name 'xtrain' is not defined"
     ]
    }
   ],
   "source": []
  },
  {
   "cell_type": "code",
   "execution_count": null,
   "metadata": {},
   "outputs": [],
   "source": []
  }
 ],
 "metadata": {
  "kernelspec": {
   "display_name": "EPACT_env2",
   "language": "python",
   "name": "python3"
  },
  "language_info": {
   "codemirror_mode": {
    "name": "ipython",
    "version": 3
   },
   "file_extension": ".py",
   "mimetype": "text/x-python",
   "name": "python",
   "nbconvert_exporter": "python",
   "pygments_lexer": "ipython3",
   "version": "3.10.12"
  }
 },
 "nbformat": 4,
 "nbformat_minor": 2
}
